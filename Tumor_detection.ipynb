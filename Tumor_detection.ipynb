{
 "cells": [
  {
   "cell_type": "code",
   "execution_count": null,
   "metadata": {
    "id": "RBI1yHx79-14"
   },
   "outputs": [],
   "source": [
    "import h5py\n",
    "import numpy as np\n",
    "import os, torch, torchvision, random\n",
    "import torch.nn as nn\n",
    "import torchvision.transforms as transforms\n",
    "from torch.utils.data import Dataset, random_split, DataLoader\n",
    "from torchvision.datasets import ImageFolder\n",
    "from torchvision import models\n",
    "from torch import optim\n",
    "from torchsummary import summary\n",
    "\n",
    "train_images = h5py.File('path to folder', 'r')['x'] #path to folder\n",
    "train_labels = h5py.File('path to folder', 'r')['y'] #path to folder\n",
    "valid_images = h5py.File('path to folder', 'r')['x'] #path to folder\n",
    "valid_labels = h5py.File('path to folder', 'r')['y'] #path to folder\n",
    "test_images = h5py.File('path to folder', 'r')['x'] #path to folder\n",
    "test_labels = h5py.File('path to folder', 'r')['y'] #path to folder\n"
   ]
  },
  {
   "cell_type": "code",
   "execution_count": null,
   "metadata": {
    "colab": {
     "base_uri": "https://localhost:8080/"
    },
    "id": "ssanSLRPQpBC",
    "outputId": "1db40810-f66e-4ad5-92ba-411ac07ceb1f"
   },
   "outputs": [],
   "source": [
    "print('train count: ', len(train_images))\n",
    "print('valid count: ', len(valid_images))\n",
    "print('test count: ', len(test_images))"
   ]
  },
  {
   "cell_type": "code",
   "execution_count": null,
   "metadata": {
    "id": "6Om4RjC5sAKN"
   },
   "outputs": [],
   "source": [
    "class Dataset(Dataset):\n",
    "  \n",
    "  def __init__(self, images, labels, transform):\n",
    "    self.images = images\n",
    "    self.labels = labels\n",
    "    self.transform = transform\n",
    "\n",
    "  def __len__(self):\n",
    "    return len(self.images)\n",
    "\n",
    "  def __getitem__(self, idx):\n",
    "\n",
    "    image = self.transform(self.images[idx]) # Transform image\n",
    "    label = np.squeeze(self.labels[idx])\n",
    "            \n",
    "    return image, label # return 模型訓練所需的資訊"
   ]
  },
  {
   "cell_type": "code",
   "execution_count": null,
   "metadata": {
    "id": "D8SOAMz8snEX"
   },
   "outputs": [],
   "source": [
    "normalize = transforms.Normalize(mean = [0.485, 0.456, 0.406], std = [0.229, 0.224, 0.225])\n",
    "\n",
    "# Transformer\n",
    "train_transformer = transforms.Compose([\n",
    "  transforms.ToPILImage(),\n",
    "  transforms.Resize((224, 224)),\n",
    "  transforms.RandomHorizontalFlip(),\n",
    "  transforms.ToTensor(),\n",
    "  normalize\n",
    "])\n",
    " \n",
    "valid_transformer = transforms.Compose([\n",
    "  transforms.ToPILImage(),\n",
    "  transforms.Resize((224, 224)),\n",
    "  transforms.RandomHorizontalFlip(),  \n",
    "  transforms.ToTensor(),\n",
    "  normalize\n",
    "])"
   ]
  },
  {
   "cell_type": "code",
   "execution_count": null,
   "metadata": {
    "id": "O7SDQ_nptdR2"
   },
   "outputs": [],
   "source": [
    "train_dataset = Dataset(train_images, train_labels, train_transformer)\n",
    "valid_dataset = Dataset(valid_images, valid_labels, valid_transformer)\n",
    "test_dataset = Dataset(test_images, test_labels, valid_transformer)\n",
    "\n",
    "train_Dataloader = DataLoader(dataset = train_dataset, batch_size = 128, shuffle = True,  drop_last = True)\n",
    "valid_Dataloader = DataLoader(dataset = valid_dataset, batch_size = 128, shuffle = True,  drop_last = True)\n",
    "test_Dataloader = DataLoader(dataset = test_dataset, batch_size = 128, shuffle = True,  drop_last = True)"
   ]
  },
  {
   "cell_type": "code",
   "execution_count": null,
   "metadata": {
    "colab": {
     "base_uri": "https://localhost:8080/",
     "height": 1000,
     "referenced_widgets": [
      "2d763d2ad32448d0aa280ee15cc8ad51",
      "ee431d44cae143a6b19a425eb4f8419d",
      "8ba43434f9684dd4bfd94658e7566438",
      "6441119c169a4b0685b3b672ba17876a",
      "7bd5aa4fad1b41f0a51ee15135f6772e",
      "9f261947bc094768badfef890c0e67be",
      "f9fb406c6d924684bf9c0a05035428f6",
      "8756e9cf9f96425cbdd89e9c9a442344",
      "ab9321bf760244e2aab2eaf01468b155",
      "f4a51382831b40acad0d2d7c3e3b8d1f",
      "8a4daf539ad14d1ca92ced88d5992bdb"
     ]
    },
    "id": "7FOoFUcEs2PM",
    "outputId": "f37a8bd9-4582-42cf-b63e-968937d24622"
   },
   "outputs": [],
   "source": [
    "resnet50 = models.resnet50(pretrained=True)\n",
    "\n",
    "for param in resnet50.parameters():\n",
    "    param.requires_grad = False\n",
    "\n",
    "in_features = resnet50.fc.in_features    \n",
    "resnet50.fc = nn.Linear(in_features, 2)\n",
    "\n",
    "resnet50"
   ]
  },
  {
   "cell_type": "code",
   "execution_count": null,
   "metadata": {
    "id": "V9aLUaGYDJNo"
   },
   "outputs": [],
   "source": [
    "device = torch.device('cuda' if torch.cuda.is_available() else 'cpu')"
   ]
  },
  {
   "cell_type": "code",
   "execution_count": null,
   "metadata": {
    "id": "aR0JbFYG60bO"
   },
   "outputs": [],
   "source": [
    "lr = 1e-3\n",
    "epochs = 3 \n",
    "save_path = 'save path' #please input path"
   ]
  },
  {
   "cell_type": "code",
   "execution_count": null,
   "metadata": {
    "id": "ll7VemUE7JYf"
   },
   "outputs": [],
   "source": [
    "model = resnet50.to(device)\n",
    "opt = optim.SGD(model.parameters(), lr = lr)\n",
    "model_name = os.path.join(save_path, 'ResNet50.h5')\n",
    "\n",
    "# Loss function\n",
    "criterion = nn.CrossEntropyLoss()"
   ]
  },
  {
   "cell_type": "code",
   "execution_count": null,
   "metadata": {
    "id": "7W6Lo8-l62TF"
   },
   "outputs": [],
   "source": [
    "train_loss_epoch, valid_loss_epoch = [], []\n",
    "train_acc, valid_acc = [], []\n",
    "best_acc, best_auc = 0.0, 0.0"
   ]
  },
  {
   "cell_type": "code",
   "execution_count": null,
   "metadata": {
    "id": "fOBOBr5s-p7S"
   },
   "outputs": [],
   "source": [
    "import sys\n",
    "from tqdm import tqdm\n",
    "\n",
    "if __name__ == '__main__':    \n",
    "  \n",
    "  for epoch in range(epochs):\n",
    "  \n",
    "    \n",
    "    correct_train, total_train = 0, 0\n",
    "    correct_valid, total_valid = 0, 0\n",
    "    train_loss_C, valid_loss_C = 0.0, 0.0\n",
    "\n",
    "    model.train()\n",
    "  \n",
    "    print('epoch: ' + str(epoch + 1) + ' / ' + str(epochs))  \n",
    "    \n",
    "    # ---------------------------\n",
    "    # Training Stage\n",
    "    # ---------------------------\n",
    "    \n",
    "    with tqdm(train_Dataloader, desc = 'Train', file = sys.stdout) as iterator:\n",
    "      iter = 0\n",
    "      for imgs, gts in iterator:\n",
    "        imgs, gts = imgs.to(device), gts.to(device)\n",
    "        opt.zero_grad()\n",
    "\n",
    "        outputs = model(imgs)\n",
    "        _, preds = torch.max(outputs, dim=1)\n",
    "        loss = criterion(outputs, gts)\n",
    "\n",
    "        loss.backward()\n",
    "        opt.step()\n",
    "\n",
    "\n",
    "        _, preds = torch.max(outputs, dim=1)\n",
    "        total_train += gts.size(0)\n",
    "        correct_train += (preds==gts).sum().item()\n",
    "\n",
    "        train_loss_C += loss.item()\n",
    "        iter += 1\n",
    "      \n",
    "      print('train loss: %.3f | train acc: %.3f' % \\\n",
    "            (train_loss_C / iter, correct_train / total_train))\n",
    "\n",
    "    \n",
    "    # --------------------------\n",
    "    # Validating Stage\n",
    "    # --------------------------\n",
    "    \n",
    "    model.eval() # 設定 train 或 eval\n",
    "\n",
    "    with tqdm(valid_Dataloader, desc = 'Valid', file = sys.stdout) as iterator:\n",
    "      iter = 0\n",
    "      for imgs, gts in iterator:\n",
    "        with torch.no_grad():\n",
    "          imgs, gts = imgs.to(device), gts.to(device)\n",
    "          opt.zero_grad()\n",
    "\n",
    "          outputs = model(imgs)\n",
    "          _, preds = torch.max(outputs, dim=1)\n",
    "          loss = criterion(outputs, gts)\n",
    "\n",
    "\n",
    "          _, preds = torch.max(outputs, dim=1)\n",
    "          total_valid += gts.size(0)\n",
    "          correct_valid += (preds==gts).sum().item()\n",
    "\n",
    "          valid_loss_C += loss.item()\n",
    "          iter += 1\n",
    "\n",
    "      print('valid loss: %.3f | valid acc: %.3f' % \\\n",
    "            (valid_loss_C / iter, correct_valid / total_valid))\n",
    "      \n",
    "      if((correct_valid / total_valid) > best_acc):\n",
    "        best_acc = correct_valid / total_valid\n",
    "        torch.save(model.state_dict(), model_name)\n",
    "        print('Model Save!!')\n",
    "\n",
    "    print('---------------------------------------------------------')                              \n",
    "    train_acc.append(100 * (correct_train / total_train)) # train accuracy\n",
    "    valid_acc.append(100 * (correct_valid / total_valid))  # valid accuracy\n",
    "    train_loss_epoch.append(train_loss_C / iter) # train loss\n",
    "    valid_loss_epoch.append(valid_loss_C / iter) # valid loss\n",
    "    "
   ]
  },
  {
   "cell_type": "code",
   "execution_count": null,
   "metadata": {
    "id": "4mS381BE58Ad"
   },
   "outputs": [],
   "source": [
    "import matplotlib.pyplot as plt\n",
    "\n",
    "plt.figure()\n",
    "\n",
    "plt.plot(train_loss_epoch) # plot your loss\n",
    "plt.plot(valid_loss_epoch)\n",
    "\n",
    "plt.title('Loss')\n",
    "plt.ylabel('loss'), plt.xlabel('epoch')\n",
    "plt.legend(['train', 'valid'], loc = 'upper left')\n",
    "plt.show()\n",
    "\n",
    "plt.figure()\n",
    "\n",
    "plt.plot(train_acc) # plot your training accuracy\n",
    "plt.plot(valid_acc) # plot your testing accuracy\n",
    "\n",
    "plt.title('Accuracy')\n",
    "plt.ylabel('acc (%)'), plt.xlabel('epoch')\n",
    "plt.legend(['train', 'valid'], loc = 'upper left')\n",
    "plt.show()"
   ]
  },
  {
   "cell_type": "code",
   "execution_count": null,
   "metadata": {
    "id": "ga6WLCEsPUSs"
   },
   "outputs": [],
   "source": [
    "test_model = resnet50\n",
    "test_model.eval()\n",
    "test_model.load_state_dict(torch.load('path to ResNet50 h5')) # path to resnet 50 "
   ]
  },
  {
   "cell_type": "code",
   "execution_count": null,
   "metadata": {
    "id": "uE0KYx0ePcaU"
   },
   "outputs": [],
   "source": [
    "if __name__ == '__main__':  \n",
    "  for epoch in range(1):\n",
    "  \n",
    "    correct_test, total_test, test_loss_C = 0, 0, 0.0\n",
    "\n",
    "    # --------------------------\n",
    "    # Testing Stage\n",
    "    # --------------------------\n",
    "    \n",
    "    \n",
    "\n",
    "    with tqdm(test_Dataloader, desc = 'Test', file = sys.stdout) as iterator:\n",
    "      iter = 0\n",
    "      for imgs, gts in iterator:\n",
    "        with torch.no_grad():\n",
    "          imgs, gts = imgs.to(device), gts.to(device)\n",
    "\n",
    "          outputs = test_model(imgs)\n",
    "          _, preds = torch.max(outputs, dim=1)\n",
    "          loss = criterion(outputs, gts)\n",
    "\n",
    "\n",
    "          _, preds = torch.max(outputs, dim=1)\n",
    "          total_test += gts.size(0)\n",
    "          correct_test += (preds==gts).sum().item()\n",
    "\n",
    "          test_loss_C += loss.item()\n",
    "          iter += 1\n",
    "\n",
    "      print('test loss: %.3f | test acc: %.3f' % \\\n",
    "            (test_loss_C / iter, correct_test / total_test))"
   ]
  },
  {
   "cell_type": "code",
   "execution_count": null,
   "metadata": {
    "id": "HzZJqxiVQj3T"
   },
   "outputs": [],
   "source": []
  }
 ],
 "metadata": {
  "accelerator": "GPU",
  "colab": {
   "collapsed_sections": [],
   "name": "brca_tumor_detect.ipynb",
   "provenance": []
  },
  "kernelspec": {
   "display_name": "Python 3 (ipykernel)",
   "language": "python",
   "name": "python3"
  },
  "language_info": {
   "codemirror_mode": {
    "name": "ipython",
    "version": 3
   },
   "file_extension": ".py",
   "mimetype": "text/x-python",
   "name": "python",
   "nbconvert_exporter": "python",
   "pygments_lexer": "ipython3",
   "version": "3.8.12"
  },
  "widgets": {
   "application/vnd.jupyter.widget-state+json": {
    "2d763d2ad32448d0aa280ee15cc8ad51": {
     "model_module": "@jupyter-widgets/controls",
     "model_module_version": "1.5.0",
     "model_name": "HBoxModel",
     "state": {
      "_dom_classes": [],
      "_model_module": "@jupyter-widgets/controls",
      "_model_module_version": "1.5.0",
      "_model_name": "HBoxModel",
      "_view_count": null,
      "_view_module": "@jupyter-widgets/controls",
      "_view_module_version": "1.5.0",
      "_view_name": "HBoxView",
      "box_style": "",
      "children": [
       "IPY_MODEL_ee431d44cae143a6b19a425eb4f8419d",
       "IPY_MODEL_8ba43434f9684dd4bfd94658e7566438",
       "IPY_MODEL_6441119c169a4b0685b3b672ba17876a"
      ],
      "layout": "IPY_MODEL_7bd5aa4fad1b41f0a51ee15135f6772e"
     }
    },
    "6441119c169a4b0685b3b672ba17876a": {
     "model_module": "@jupyter-widgets/controls",
     "model_module_version": "1.5.0",
     "model_name": "HTMLModel",
     "state": {
      "_dom_classes": [],
      "_model_module": "@jupyter-widgets/controls",
      "_model_module_version": "1.5.0",
      "_model_name": "HTMLModel",
      "_view_count": null,
      "_view_module": "@jupyter-widgets/controls",
      "_view_module_version": "1.5.0",
      "_view_name": "HTMLView",
      "description": "",
      "description_tooltip": null,
      "layout": "IPY_MODEL_f4a51382831b40acad0d2d7c3e3b8d1f",
      "placeholder": "​",
      "style": "IPY_MODEL_8a4daf539ad14d1ca92ced88d5992bdb",
      "value": " 44.7M/44.7M [00:00&lt;00:00, 129MB/s]"
     }
    },
    "7bd5aa4fad1b41f0a51ee15135f6772e": {
     "model_module": "@jupyter-widgets/base",
     "model_module_version": "1.2.0",
     "model_name": "LayoutModel",
     "state": {
      "_model_module": "@jupyter-widgets/base",
      "_model_module_version": "1.2.0",
      "_model_name": "LayoutModel",
      "_view_count": null,
      "_view_module": "@jupyter-widgets/base",
      "_view_module_version": "1.2.0",
      "_view_name": "LayoutView",
      "align_content": null,
      "align_items": null,
      "align_self": null,
      "border": null,
      "bottom": null,
      "display": null,
      "flex": null,
      "flex_flow": null,
      "grid_area": null,
      "grid_auto_columns": null,
      "grid_auto_flow": null,
      "grid_auto_rows": null,
      "grid_column": null,
      "grid_gap": null,
      "grid_row": null,
      "grid_template_areas": null,
      "grid_template_columns": null,
      "grid_template_rows": null,
      "height": null,
      "justify_content": null,
      "justify_items": null,
      "left": null,
      "margin": null,
      "max_height": null,
      "max_width": null,
      "min_height": null,
      "min_width": null,
      "object_fit": null,
      "object_position": null,
      "order": null,
      "overflow": null,
      "overflow_x": null,
      "overflow_y": null,
      "padding": null,
      "right": null,
      "top": null,
      "visibility": null,
      "width": null
     }
    },
    "8756e9cf9f96425cbdd89e9c9a442344": {
     "model_module": "@jupyter-widgets/base",
     "model_module_version": "1.2.0",
     "model_name": "LayoutModel",
     "state": {
      "_model_module": "@jupyter-widgets/base",
      "_model_module_version": "1.2.0",
      "_model_name": "LayoutModel",
      "_view_count": null,
      "_view_module": "@jupyter-widgets/base",
      "_view_module_version": "1.2.0",
      "_view_name": "LayoutView",
      "align_content": null,
      "align_items": null,
      "align_self": null,
      "border": null,
      "bottom": null,
      "display": null,
      "flex": null,
      "flex_flow": null,
      "grid_area": null,
      "grid_auto_columns": null,
      "grid_auto_flow": null,
      "grid_auto_rows": null,
      "grid_column": null,
      "grid_gap": null,
      "grid_row": null,
      "grid_template_areas": null,
      "grid_template_columns": null,
      "grid_template_rows": null,
      "height": null,
      "justify_content": null,
      "justify_items": null,
      "left": null,
      "margin": null,
      "max_height": null,
      "max_width": null,
      "min_height": null,
      "min_width": null,
      "object_fit": null,
      "object_position": null,
      "order": null,
      "overflow": null,
      "overflow_x": null,
      "overflow_y": null,
      "padding": null,
      "right": null,
      "top": null,
      "visibility": null,
      "width": null
     }
    },
    "8a4daf539ad14d1ca92ced88d5992bdb": {
     "model_module": "@jupyter-widgets/controls",
     "model_module_version": "1.5.0",
     "model_name": "DescriptionStyleModel",
     "state": {
      "_model_module": "@jupyter-widgets/controls",
      "_model_module_version": "1.5.0",
      "_model_name": "DescriptionStyleModel",
      "_view_count": null,
      "_view_module": "@jupyter-widgets/base",
      "_view_module_version": "1.2.0",
      "_view_name": "StyleView",
      "description_width": ""
     }
    },
    "8ba43434f9684dd4bfd94658e7566438": {
     "model_module": "@jupyter-widgets/controls",
     "model_module_version": "1.5.0",
     "model_name": "FloatProgressModel",
     "state": {
      "_dom_classes": [],
      "_model_module": "@jupyter-widgets/controls",
      "_model_module_version": "1.5.0",
      "_model_name": "FloatProgressModel",
      "_view_count": null,
      "_view_module": "@jupyter-widgets/controls",
      "_view_module_version": "1.5.0",
      "_view_name": "ProgressView",
      "bar_style": "success",
      "description": "",
      "description_tooltip": null,
      "layout": "IPY_MODEL_8756e9cf9f96425cbdd89e9c9a442344",
      "max": 46830571,
      "min": 0,
      "orientation": "horizontal",
      "style": "IPY_MODEL_ab9321bf760244e2aab2eaf01468b155",
      "value": 46830571
     }
    },
    "9f261947bc094768badfef890c0e67be": {
     "model_module": "@jupyter-widgets/base",
     "model_module_version": "1.2.0",
     "model_name": "LayoutModel",
     "state": {
      "_model_module": "@jupyter-widgets/base",
      "_model_module_version": "1.2.0",
      "_model_name": "LayoutModel",
      "_view_count": null,
      "_view_module": "@jupyter-widgets/base",
      "_view_module_version": "1.2.0",
      "_view_name": "LayoutView",
      "align_content": null,
      "align_items": null,
      "align_self": null,
      "border": null,
      "bottom": null,
      "display": null,
      "flex": null,
      "flex_flow": null,
      "grid_area": null,
      "grid_auto_columns": null,
      "grid_auto_flow": null,
      "grid_auto_rows": null,
      "grid_column": null,
      "grid_gap": null,
      "grid_row": null,
      "grid_template_areas": null,
      "grid_template_columns": null,
      "grid_template_rows": null,
      "height": null,
      "justify_content": null,
      "justify_items": null,
      "left": null,
      "margin": null,
      "max_height": null,
      "max_width": null,
      "min_height": null,
      "min_width": null,
      "object_fit": null,
      "object_position": null,
      "order": null,
      "overflow": null,
      "overflow_x": null,
      "overflow_y": null,
      "padding": null,
      "right": null,
      "top": null,
      "visibility": null,
      "width": null
     }
    },
    "ab9321bf760244e2aab2eaf01468b155": {
     "model_module": "@jupyter-widgets/controls",
     "model_module_version": "1.5.0",
     "model_name": "ProgressStyleModel",
     "state": {
      "_model_module": "@jupyter-widgets/controls",
      "_model_module_version": "1.5.0",
      "_model_name": "ProgressStyleModel",
      "_view_count": null,
      "_view_module": "@jupyter-widgets/base",
      "_view_module_version": "1.2.0",
      "_view_name": "StyleView",
      "bar_color": null,
      "description_width": ""
     }
    },
    "ee431d44cae143a6b19a425eb4f8419d": {
     "model_module": "@jupyter-widgets/controls",
     "model_module_version": "1.5.0",
     "model_name": "HTMLModel",
     "state": {
      "_dom_classes": [],
      "_model_module": "@jupyter-widgets/controls",
      "_model_module_version": "1.5.0",
      "_model_name": "HTMLModel",
      "_view_count": null,
      "_view_module": "@jupyter-widgets/controls",
      "_view_module_version": "1.5.0",
      "_view_name": "HTMLView",
      "description": "",
      "description_tooltip": null,
      "layout": "IPY_MODEL_9f261947bc094768badfef890c0e67be",
      "placeholder": "​",
      "style": "IPY_MODEL_f9fb406c6d924684bf9c0a05035428f6",
      "value": "100%"
     }
    },
    "f4a51382831b40acad0d2d7c3e3b8d1f": {
     "model_module": "@jupyter-widgets/base",
     "model_module_version": "1.2.0",
     "model_name": "LayoutModel",
     "state": {
      "_model_module": "@jupyter-widgets/base",
      "_model_module_version": "1.2.0",
      "_model_name": "LayoutModel",
      "_view_count": null,
      "_view_module": "@jupyter-widgets/base",
      "_view_module_version": "1.2.0",
      "_view_name": "LayoutView",
      "align_content": null,
      "align_items": null,
      "align_self": null,
      "border": null,
      "bottom": null,
      "display": null,
      "flex": null,
      "flex_flow": null,
      "grid_area": null,
      "grid_auto_columns": null,
      "grid_auto_flow": null,
      "grid_auto_rows": null,
      "grid_column": null,
      "grid_gap": null,
      "grid_row": null,
      "grid_template_areas": null,
      "grid_template_columns": null,
      "grid_template_rows": null,
      "height": null,
      "justify_content": null,
      "justify_items": null,
      "left": null,
      "margin": null,
      "max_height": null,
      "max_width": null,
      "min_height": null,
      "min_width": null,
      "object_fit": null,
      "object_position": null,
      "order": null,
      "overflow": null,
      "overflow_x": null,
      "overflow_y": null,
      "padding": null,
      "right": null,
      "top": null,
      "visibility": null,
      "width": null
     }
    },
    "f9fb406c6d924684bf9c0a05035428f6": {
     "model_module": "@jupyter-widgets/controls",
     "model_module_version": "1.5.0",
     "model_name": "DescriptionStyleModel",
     "state": {
      "_model_module": "@jupyter-widgets/controls",
      "_model_module_version": "1.5.0",
      "_model_name": "DescriptionStyleModel",
      "_view_count": null,
      "_view_module": "@jupyter-widgets/base",
      "_view_module_version": "1.2.0",
      "_view_name": "StyleView",
      "description_width": ""
     }
    }
   }
  }
 },
 "nbformat": 4,
 "nbformat_minor": 1
}
